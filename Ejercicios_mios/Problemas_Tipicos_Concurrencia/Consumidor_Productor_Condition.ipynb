{
 "cells": [
  {
   "cell_type": "code",
   "execution_count": 3,
   "metadata": {},
   "outputs": [
    {
     "name": "stdout",
     "output_type": "stream",
     "text": [
      "Producido: ['Mensaje 0']\n",
      "\n",
      "Consumido: []\n",
      "\n",
      "Producido: ['Mensaje 1']\n",
      "\n",
      "Producido: ['Mensaje 1', 'Mensaje 2']\n",
      "\n",
      "Producido: ['Mensaje 1', 'Mensaje 2', 'Mensaje 3']\n",
      "\n",
      "Producido: ['Mensaje 1', 'Mensaje 2', 'Mensaje 3', 'Mensaje 4']\n",
      "\n",
      "Consumido: ['Mensaje 1', 'Mensaje 2', 'Mensaje 3']\n",
      "\n",
      "Consumido: ['Mensaje 1', 'Mensaje 2']\n",
      "\n",
      "Consumido: ['Mensaje 1']\n",
      "\n",
      "Consumido: []\n",
      "\n"
     ]
    }
   ],
   "source": [
    "import threading,random,time\n",
    "\n",
    "class Productor(threading.Thread):\n",
    "    def __init__(self,buffer,condition):\n",
    "        super().__init__()\n",
    "        self.buffer = buffer\n",
    "        self.condition = condition\n",
    "\n",
    "    def run(self):\n",
    "        for i in range(5):\n",
    "            time.sleep(random.uniform(0.2,0.8))\n",
    "            with self.condition:\n",
    "                self.buffer.append(f\"Mensaje {i}\")\n",
    "                print(f\"Producido: {self.buffer}\\n\")\n",
    "                self.condition.notify()\n",
    "\n",
    "class Consumidor(threading.Thread):\n",
    "    def __init__(self,buffer,condition):\n",
    "        super().__init__()\n",
    "        self.buffer = buffer\n",
    "        self.condition = condition\n",
    "\n",
    "    def run(self):\n",
    "        for i in range(5):\n",
    "            with self.condition:\n",
    "                while not self.buffer:\n",
    "                    self.condition.wait()\n",
    "                self.buffer.pop()\n",
    "                print(f\"Consumido: {self.buffer}\\n\")\n",
    "            time.sleep(random.uniform(0.5,1.5))\n",
    "\n",
    "\n",
    "def main():\n",
    "    buffer = []\n",
    "    condition = threading.Condition()\n",
    "    producer = Productor(buffer,condition)\n",
    "    consumer = Consumidor(buffer,condition)\n",
    "\n",
    "    producer.start()\n",
    "    consumer.start()\n",
    "\n",
    "    producer.join()\n",
    "    consumer.join()\n",
    "\n",
    "main()"
   ]
  }
 ],
 "metadata": {
  "kernelspec": {
   "display_name": "Python 3",
   "language": "python",
   "name": "python3"
  },
  "language_info": {
   "codemirror_mode": {
    "name": "ipython",
    "version": 3
   },
   "file_extension": ".py",
   "mimetype": "text/x-python",
   "name": "python",
   "nbconvert_exporter": "python",
   "pygments_lexer": "ipython3",
   "version": "3.12.1"
  }
 },
 "nbformat": 4,
 "nbformat_minor": 2
}
