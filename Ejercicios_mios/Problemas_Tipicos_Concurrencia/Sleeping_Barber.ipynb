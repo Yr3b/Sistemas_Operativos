{
 "cells": [
  {
   "cell_type": "markdown",
   "metadata": {},
   "source": [
    "#### Problema del Barbero Durmiente"
   ]
  },
  {
   "cell_type": "markdown",
   "metadata": {},
   "source": [
    "Este problema ilustra la sincronización entre un barbero que duerme cuando no hay clientes y se despierta para atender a un cliente cuando llega. Si llegan más clientes mientras está ocupado, esperan en una sala de espera. El desafío es sincronizar el barbero y los clientes para que el barbero duerma cuando no hay clientes y trabaje cuando hay clientes sin perder a ninguno.\n"
   ]
  },
  {
   "cell_type": "code",
   "execution_count": 1,
   "metadata": {},
   "outputs": [
    {
     "name": "stdout",
     "output_type": "stream",
     "text": [
      "No one in the shop, going to sleep.\n"
     ]
    },
    {
     "name": "stdout",
     "output_type": "stream",
     "text": [
      "Client 1 has entered the shop.\n",
      "Client 1 is in the chair.\n",
      "Client 1 is cuting his hair.\n",
      "Client 2 has entered the shop.\n",
      "Client 0 has entered the shop.\n",
      "Client 1 has finished his cut.\n",
      "Client 2 is in the chair.\n",
      "Client 2 is cuting his hair.\n",
      "Client 2 has finished his cut.\n",
      "Client 0 is in the chair.\n",
      "Client 0 is cuting his hair.\n",
      "Client 0 has finished his cut.\n",
      "No one in the shop, going to sleep.\n"
     ]
    }
   ],
   "source": [
    "import threading\n",
    "import time\n",
    "import random\n",
    "\n",
    "class BarberShop():\n",
    "    def __init__(self):\n",
    "        self.waitingRoom = []\n",
    "        self.chairLock = threading.Lock()\n",
    "        self.charla = threading.Condition()\n",
    "\n",
    "\n",
    "    def cutMyHair(self, client):\n",
    "        time.sleep(random.uniform(3, 7))\n",
    "        self.waitingRoom.append(client)\n",
    "        print(f\"{client} has entered the shop.\")\n",
    "        with self.chairLock:\n",
    "            print(f\"{client} is in the chair.\")\n",
    "            with self.charla:\n",
    "                self.charla.notify()\n",
    "            with self.charla:\n",
    "                print(f\"{client} is cuting his hair.\")\n",
    "                self.charla.wait()\n",
    "                self.waitingRoom.remove(client)\n",
    "            print(f\"{client} has finished his cut.\")\n",
    "    \n",
    "    def CutHair(self):\n",
    "        while True:\n",
    "            with self.charla:\n",
    "                if not self.waitingRoom:\n",
    "                    print(\"No one in the shop, going to sleep.\")\n",
    "                    self.charla.wait()\n",
    "            time.sleep(random.uniform(2, 4))\n",
    "            with self.charla:\n",
    "                self.charla.notify()\n",
    "\n",
    "\n",
    "shop = BarberShop()\n",
    "hairCut = threading.Thread(target=shop.CutHair)\n",
    "hairCut.start()\n",
    "\n",
    "for i in range(3):\n",
    "    client = threading.Thread(target=shop.cutMyHair, args=(f'Client {i}',))\n",
    "    client.start()\n"
   ]
  }
 ],
 "metadata": {
  "kernelspec": {
   "display_name": "Python 3",
   "language": "python",
   "name": "python3"
  },
  "language_info": {
   "codemirror_mode": {
    "name": "ipython",
    "version": 3
   },
   "file_extension": ".py",
   "mimetype": "text/x-python",
   "name": "python",
   "nbconvert_exporter": "python",
   "pygments_lexer": "ipython3",
   "version": "3.12.1"
  }
 },
 "nbformat": 4,
 "nbformat_minor": 2
}
