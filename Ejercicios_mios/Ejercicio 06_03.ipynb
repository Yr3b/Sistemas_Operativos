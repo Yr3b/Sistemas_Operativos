{
 "cells": [
  {
   "cell_type": "markdown",
   "metadata": {},
   "source": [
    "#### Ejercicio 06-03"
   ]
  },
  {
   "cell_type": "markdown",
   "metadata": {},
   "source": [
    "Consigna: Imagina que estas organizando una carrera en la que varios corredores deben esperar en la linea de partida hasta que todos esten listos antes de comenzar a correr simultaneamente. Implementa este escenario en python usando hilos y una barrera para sincronizar el inicio de la carrera.\n",
    "\n",
    "Cada corredor deberia anunciar que esta listo, esperar a los demas y luego, tras la señal de inicio, correr (simulado con un sleep aleatorio) hacia la meta."
   ]
  },
  {
   "cell_type": "code",
   "execution_count": 4,
   "metadata": {},
   "outputs": [
    {
     "name": "stdout",
     "output_type": "stream",
     "text": [
      "Corredor 1 preparandose...\n",
      "Corredor 2 preparandose...\n",
      "Corredor 3 preparandose...\n",
      "Corredor 3 ha llegado a la linea de partida\n",
      "Corredor 1 ha llegado a la linea de partida\n",
      "Corredor 2 ha llegado a la linea de partida\n",
      "Corredor 1 ha llegado a la meta!\n",
      "Corredor 2 ha llegado a la meta!\n",
      "Corredor 3 ha llegado a la meta!\n",
      "Carrera Terminada!\n"
     ]
    }
   ],
   "source": [
    "import threading,random,time\n",
    "\n",
    "class Corredor(threading.Thread):\n",
    "    def __init__(self,id,barrier):\n",
    "        super().__init__()\n",
    "        self._id = id\n",
    "        self._barrier = barrier\n",
    "    \n",
    "    def run(self):\n",
    "        print(f\"Corredor {self._id} preparandose...\")\n",
    "        time.sleep(random.uniform(0.5,1))\n",
    "        print(f\"Corredor {self._id} ha llegado a la linea de partida\")\n",
    "        self._barrier.wait()\n",
    "        time.sleep(random.uniform(0.5,3))\n",
    "        print(f\"Corredor {self._id} ha llegado a la meta!\")\n",
    "\n",
    "def main():\n",
    "    num_corredores = 3\n",
    "    barrier = threading.Barrier(num_corredores)\n",
    "    corredores = []\n",
    "    for i in range(num_corredores):\n",
    "        corredores.append(Corredor(i+1,barrier))\n",
    "    \n",
    "    for corredor in corredores:\n",
    "        corredor.start()\n",
    "\n",
    "    for corredor in corredores:\n",
    "        corredor.join()\n",
    "\n",
    "    print(\"Carrera Terminada!\")\n",
    "main()"
   ]
  }
 ],
 "metadata": {
  "kernelspec": {
   "display_name": "Python 3",
   "language": "python",
   "name": "python3"
  },
  "language_info": {
   "codemirror_mode": {
    "name": "ipython",
    "version": 3
   },
   "file_extension": ".py",
   "mimetype": "text/x-python",
   "name": "python",
   "nbconvert_exporter": "python",
   "pygments_lexer": "ipython3",
   "version": "3.12.1"
  }
 },
 "nbformat": 4,
 "nbformat_minor": 2
}
