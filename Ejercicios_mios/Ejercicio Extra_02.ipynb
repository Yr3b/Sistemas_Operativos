{
 "cells": [
  {
   "cell_type": "markdown",
   "metadata": {},
   "source": [
    "#### Ejercicio Extra-02"
   ]
  },
  {
   "cell_type": "markdown",
   "metadata": {},
   "source": [
    "Consigna: Simular un sistema de control de trafico en una interseccion usando semaforos (con Event). se deben alternar luces entre rojo y verde, permitiendo que varios vehiculos (hilos) crucen la interseccion solo cuando la luz esta verde. Ademas, se debe asegurar que solo un vehiculo cruce la interseccion a la vez utilizando mecanismos de exclusion mutua.\n",
    "Control del semaforo: El semaforo debe alternar entre rojo y verde en intervalos de tiempo (1.5s). Mientras la luz esta en rojo, los vehiculos deberan esperar; cuando este en verde, los vehiculos podran cruzar la interseccion.\n",
    "\n",
    "Vehiculos: cada vehiculo debe llegar a la interseccion y esperar a que la luz esta verde. Se debe garantizar que solo un vehiculo cruce la interseccion a la vez usando un lock.\n",
    "\n",
    "Exclusion mutua: Para evitar que dos vehiculos cricen al mismo tiempo se debe implementar un Lock en la interseccion."
   ]
  },
  {
   "cell_type": "markdown",
   "metadata": {},
   "source": [
    "Hay que usar un lock para evitar que dos vehiculos crucen al mismo tiempo\n",
    "Hay que usar un event para saber cuando un vehiculo termino de cruzar la interseccion"
   ]
  },
  {
   "cell_type": "code",
   "execution_count": null,
   "metadata": {},
   "outputs": [
    {
     "name": "stdout",
     "output_type": "stream",
     "text": [
      "Todos los vehículos han cruzado. Semáforo detenido.\n",
      "\n",
      "Esperando Semaforo en verde\n",
      "\n",
      "Esperando Semaforo en verde\n",
      "\n",
      "Esperando Semaforo en verde\n",
      "\n",
      "Esperando Semaforo en verde\n",
      "\n",
      "Esperando Semaforo en verde\n",
      "\n"
     ]
    }
   ],
   "source": [
    "import threading\n",
    "import time\n",
    "\n",
    "class Semaforo:\n",
    "    def __init__(self):\n",
    "        self.event = threading.Event()\n",
    "\n",
    "    def Verde(self):\n",
    "        print(\"Semaforo en verde\\n\")\n",
    "        self.event.set()  # Permite el paso\n",
    "\n",
    "    def Rojo(self):\n",
    "        print(\"Semaforo en rojo\\n\")\n",
    "        self.event.clear()  # Bloquea el paso\n",
    "\n",
    "    def Espera_verde(self):\n",
    "        print(\"Esperando Semaforo en verde\\n\")\n",
    "        self.event.wait()  # Espera hasta que esté en verde\n",
    "\n",
    "class Vehiculo(threading.Thread):\n",
    "    def __init__(self, id, semaforo, lock):\n",
    "        super().__init__()\n",
    "        self._id = id\n",
    "        self._semaforo = semaforo\n",
    "        self._lock = lock\n",
    "\n",
    "    def run(self):\n",
    "        self._semaforo.Espera_verde()  # El vehículo espera hasta que el semáforo esté en verde\n",
    "        with self._lock:  # Solo un vehículo a la vez puede cruzar\n",
    "            print(f\"El vehiculo {self._id} ha llegado a la interseccion.\\n\")\n",
    "            print(f\"Vehiculo {self._id} cruzando intersección...\\n\")\n",
    "            time.sleep(2)  # Simula el tiempo que toma cruzar\n",
    "            print(f\"Vehiculo {self._id} ha cruzado la intersección.\\n\")\n",
    "\n",
    "\n",
    "def control_semaforo(semaforo: Semaforo, vehiculos):\n",
    "    while True:  # El semáforo seguirá activo mientras haya vehículos cruzando\n",
    "        semaforo.Rojo()  # Pone el semáforo en rojo\n",
    "        time.sleep(2)  # Tiempo en rojo\n",
    "        semaforo.Verde()  # Pone el semáforo en verde\n",
    "        time.sleep(4)  # Tiempo en verde, suficiente para que los vehículos pasen\n",
    "\n",
    "    print(\"Todos los vehículos han cruzado. Semáforo detenido.\\n\")\n",
    "\n",
    "\n",
    "def main():\n",
    "    semaforo = Semaforo()\n",
    "    lock = threading.Lock()\n",
    "    vehiculos = []\n",
    "\n",
    "    # Creación de los vehículos\n",
    "    for i in range(5):\n",
    "        vehiculos.append(Vehiculo(i + 1, semaforo, lock))\n",
    "\n",
    "    # Inicia el control del semáforo\n",
    "    hilo_semaforo = threading.Thread(target=control_semaforo, args=(semaforo, vehiculos))\n",
    "    hilo_semaforo.start()\n",
    "\n",
    "    # Inicia todos los vehículos\n",
    "    for vehiculo in vehiculos:\n",
    "        vehiculo.start()\n",
    "\n",
    "    # Espera a que todos los vehículos terminen\n",
    "    for vehiculo in vehiculos:\n",
    "        vehiculo.join()\n",
    "\n",
    "    # Espera a que el semáforo también termine\n",
    "    hilo_semaforo.join()\n",
    "\n",
    "\n",
    "if __name__ == \"__main__\":\n",
    "    main()\n",
    "\n",
    "\n",
    "\n",
    "\n"
   ]
  }
 ],
 "metadata": {
  "kernelspec": {
   "display_name": "Python 3",
   "language": "python",
   "name": "python3"
  },
  "language_info": {
   "codemirror_mode": {
    "name": "ipython",
    "version": 3
   },
   "file_extension": ".py",
   "mimetype": "text/x-python",
   "name": "python",
   "nbconvert_exporter": "python",
   "pygments_lexer": "ipython3",
   "version": "3.12.1"
  }
 },
 "nbformat": 4,
 "nbformat_minor": 2
}
