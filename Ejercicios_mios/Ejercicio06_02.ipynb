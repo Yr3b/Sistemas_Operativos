{
 "cells": [
  {
   "cell_type": "markdown",
   "metadata": {},
   "source": [
    "#### Ejercicio 06-02"
   ]
  },
  {
   "cell_type": "markdown",
   "metadata": {},
   "source": [
    "Consigna: Implementa un sistema de mensajeria en el que un productor genera mensaje y los coloca en una lista compartida. Un consumidor esperara hasta que haya un mensaje disponible para leer y luego lo procesa. Utiliza un objeto Condition para gestionar la sincronizacion entre hilos, asegurando que el consumidor solo intente leer cuando hay mensajes disponibles."
   ]
  },
  {
   "cell_type": "code",
   "execution_count": 1,
   "metadata": {},
   "outputs": [
    {
     "name": "stdout",
     "output_type": "stream",
     "text": [
      "Productor Produjo: Mensaje 0\n",
      "\n",
      "Lista: ['Mensaje 0']\n",
      "\n",
      "Consumidor consumio: Mensaje 0\n",
      "\n",
      "Lista: []\n",
      "\n",
      "Productor Produjo: Mensaje 1\n",
      "\n",
      "Lista: ['Mensaje 1']\n",
      "\n",
      "Consumidor consumio: Mensaje 1\n",
      "\n",
      "Lista: []\n",
      "\n",
      "Productor Produjo: Mensaje 2\n",
      "\n",
      "Lista: ['Mensaje 2']\n",
      "\n",
      "Productor Produjo: Mensaje 3\n",
      "\n",
      "Lista: ['Mensaje 3', 'Mensaje 2']\n",
      "\n",
      "Productor Produjo: Mensaje 4\n",
      "\n",
      "Lista: ['Mensaje 4', 'Mensaje 3', 'Mensaje 2']\n",
      "\n",
      "Consumidor consumio: Mensaje 2\n",
      "\n",
      "Lista: ['Mensaje 4', 'Mensaje 3']\n",
      "\n",
      "Consumidor consumio: Mensaje 3\n",
      "\n",
      "Lista: ['Mensaje 4']\n",
      "\n",
      "Consumidor consumio: Mensaje 4\n",
      "\n",
      "Lista: []\n",
      "\n"
     ]
    }
   ],
   "source": [
    "import threading,time,random\n",
    "\n",
    "class Consumidor(threading.Thread):\n",
    "    def __init__(self,lista_compartida,condition):\n",
    "        super().__init__()\n",
    "        self._lista_compartida = lista_compartida\n",
    "        self._condition = condition\n",
    "\n",
    "    def run(self):\n",
    "        for i in range(5):\n",
    "            with self._condition:\n",
    "                while not self._lista_compartida:\n",
    "                    self._condition.wait()\n",
    "                item = self._lista_compartida.pop()\n",
    "                print(f\"Consumidor consumio: {item}\\n\")\n",
    "                print(f\"Lista: {self._lista_compartida}\\n\")\n",
    "            time.sleep(random.uniform(0.5,1.5))\n",
    "\n",
    "\n",
    "class Productor(threading.Thread):\n",
    "    def __init__(self,lista_compartida,condition):\n",
    "        super().__init__()\n",
    "        self._lista_compartida = lista_compartida\n",
    "        self._condition = condition\n",
    "\n",
    "    def ingresar_mensaje_en_lista(self,mensaje):\n",
    "        self._lista_compartida.insert(0,mensaje)\n",
    "\n",
    "    def run(self):\n",
    "        for i in range(5):\n",
    "            time.sleep(random.uniform(0.2,0.8))\n",
    "            with self._condition:\n",
    "                item = \"Mensaje \" + str(i)\n",
    "                self.ingresar_mensaje_en_lista(item)\n",
    "                print(f\"Productor Produjo: {item}\\n\")\n",
    "                print(f\"Lista: {self._lista_compartida}\\n\")\n",
    "                self._condition.notify()\n",
    "\n",
    "# En listas, para insertar al principio  -> Lista.insert(0,elemento)\n",
    "#            para inserar al final       -> Lista.append(elemento)\n",
    "\n",
    "#            para eliminar el ultimo     -> Lista.pop() [lo devuelve]\n",
    "#            para eliminar uno especifico-> Lista.remove(element) [solo el primero]\n",
    "    \n",
    "def main():\n",
    "    lista_compartida = []\n",
    "    condition = threading.Condition()\n",
    "\n",
    "    producer = Productor(lista_compartida,condition)\n",
    "    consumer = Consumidor(lista_compartida,condition)\n",
    "\n",
    "    producer.start()\n",
    "    consumer.start()\n",
    "\n",
    "    producer.join()\n",
    "    consumer.join()\n",
    "\n",
    "main()\n",
    "\n",
    "\n",
    "\n"
   ]
  }
 ],
 "metadata": {
  "kernelspec": {
   "display_name": "Python 3",
   "language": "python",
   "name": "python3"
  },
  "language_info": {
   "codemirror_mode": {
    "name": "ipython",
    "version": 3
   },
   "file_extension": ".py",
   "mimetype": "text/x-python",
   "name": "python",
   "nbconvert_exporter": "python",
   "pygments_lexer": "ipython3",
   "version": "3.12.1"
  }
 },
 "nbformat": 4,
 "nbformat_minor": 2
}
