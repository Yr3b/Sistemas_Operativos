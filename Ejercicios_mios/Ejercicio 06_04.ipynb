{
 "cells": [
  {
   "cell_type": "markdown",
   "metadata": {},
   "source": [
    "#### Ejercicio 06-04"
   ]
  },
  {
   "cell_type": "markdown",
   "metadata": {},
   "source": [
    "Consigna: Imagina que estas desarrollando un sistema para coordinar varias estaciones de trabajo en una linea de ensamble. Cada estacion debe completar una tarea antes de que la siguiente estacion pueda comenzar su proceso. Utiliza Event para controlar el flujo de operaciones entre las estaciones."
   ]
  },
  {
   "cell_type": "code",
   "execution_count": 3,
   "metadata": {},
   "outputs": [
    {
     "name": "stdout",
     "output_type": "stream",
     "text": [
      "Estacion 1 trabajando...\n",
      "Estacion 2 Esperando a que finalice la estacion 1...\n",
      "Estacion 3 Esperando a que finalice la estacion 2...\n",
      "Estacion 4 Esperando a que finalice la estacion 3...\n",
      "Estacion 5 Esperando a que finalice la estacion 4...\n",
      "Estacion 1 termino de trabajar.\n",
      "Estacion 2 trabajando...\n",
      "Estacion 2 termino de trabajar.\n",
      "Estacion 3 trabajando...\n",
      "Estacion 3 termino de trabajar.\n",
      "Estacion 4 trabajando...\n",
      "Estacion 4 termino de trabajar.\n",
      "Estacion 5 trabajando...\n",
      "Estacion 5 termino de trabajar.\n",
      "Todas las estaciones terminaron sus tareas!\n",
      "\n"
     ]
    }
   ],
   "source": [
    "import threading,time,random\n",
    "\n",
    "class Estacion(threading.Thread):\n",
    "    def __init__(self,prev_event,next_event,id):\n",
    "        super().__init__()\n",
    "        self._prev_event = prev_event\n",
    "        self._next_event = next_event\n",
    "        self._id = id\n",
    "\n",
    "    def run(self):\n",
    "        if self._prev_event:\n",
    "            print(f\"Estacion {self._id} Esperando a que finalice la estacion {self._id - 1 }...\")\n",
    "            self._prev_event.wait()\n",
    "        print(f\"Estacion {self._id} trabajando...\")\n",
    "        time.sleep(random.uniform(0.5,2))\n",
    "        print(f\"Estacion {self._id} termino de trabajar.\")\n",
    "        if self._next_event:\n",
    "            self._next_event.set()\n",
    "        \n",
    "    \n",
    "\n",
    "def main():\n",
    "    event1 = threading.Event()\n",
    "    event2 = threading.Event()\n",
    "    event3 = threading.Event()\n",
    "    event4 = threading.Event()\n",
    "\n",
    "    estacion1 = Estacion(None,event1,1)\n",
    "    estacion2 = Estacion(event1,event2,2)\n",
    "    estacion3 = Estacion(event2,event3,3)\n",
    "    estacion4 = Estacion(event3,event4,4)\n",
    "    estacion5 = Estacion(event4,None,5)\n",
    "\n",
    "    estaciones = [estacion1,estacion2,estacion3,estacion4,estacion5]\n",
    "\n",
    "    for estacion in estaciones:\n",
    "        estacion.start()\n",
    "\n",
    "    for estacion in estaciones:\n",
    "        estacion.join()\n",
    "    \n",
    "\n",
    "    print(\"Todas las estaciones terminaron sus tareas!\\n\")\n",
    "main()\n",
    "\n"
   ]
  }
 ],
 "metadata": {
  "kernelspec": {
   "display_name": "Python 3",
   "language": "python",
   "name": "python3"
  },
  "language_info": {
   "codemirror_mode": {
    "name": "ipython",
    "version": 3
   },
   "file_extension": ".py",
   "mimetype": "text/x-python",
   "name": "python",
   "nbconvert_exporter": "python",
   "pygments_lexer": "ipython3",
   "version": "3.12.1"
  }
 },
 "nbformat": 4,
 "nbformat_minor": 2
}
