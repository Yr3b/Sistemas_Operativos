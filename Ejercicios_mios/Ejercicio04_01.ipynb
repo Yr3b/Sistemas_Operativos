{
 "cells": [
  {
   "cell_type": "markdown",
   "metadata": {},
   "source": [
    "#### Ejercicio 04-01"
   ]
  },
  {
   "cell_type": "markdown",
   "metadata": {},
   "source": [
    "Consigna: Crear un programa en python que simule el acceso de varios usuarios a una caja de ahorro compartida. Cada usuario intentara realizar depositos en la caja de ahorro. Para evitar inconsistencias en el saldo total, es necesario implementar un mecanismo que asegure que solo un usuario pueda acceder a la caja de ahorro a la vez."
   ]
  },
  {
   "cell_type": "markdown",
   "metadata": {},
   "source": [
    "notas mias: Se trata de un ejercicio de lock ya que cada usuario (hilo) accede a la caja de ahorro compartida que seria el recurso compartido una sola vez y solo lo puede hacer un usuario a la vez"
   ]
  },
  {
   "cell_type": "code",
   "execution_count": 13,
   "metadata": {},
   "outputs": [
    {
     "name": "stdout",
     "output_type": "stream",
     "text": [
      "El usuario 0 intenta depositar: 10\n",
      "\n",
      "El usuario 1 intenta depositar: 11\n",
      "\n",
      "El usuario 2 intenta depositar: 12\n",
      "\n",
      "El usuario 3 intenta depositar: 13\n",
      "\n",
      "El usuario 4 intenta depositar: 14\n",
      "\n",
      "El usuario 5 intenta depositar: 15\n",
      "\n",
      "Saldo antes de depositar (10): 100\n",
      "Saldo despues de depositar: 110\n",
      "\n",
      "Saldo antes de depositar (11): 110\n",
      "Saldo despues de depositar: 121\n",
      "\n",
      "Saldo antes de depositar (12): 121\n",
      "Saldo despues de depositar: 133\n",
      "\n",
      "Saldo antes de depositar (13): 133\n",
      "Saldo despues de depositar: 146\n",
      "\n",
      "Saldo antes de depositar (14): 146\n",
      "Saldo despues de depositar: 160\n",
      "\n",
      "Saldo antes de depositar (15): 160\n",
      "Saldo despues de depositar: 175\n",
      "\n"
     ]
    }
   ],
   "source": [
    "import threading,time,random\n",
    "\n",
    "class CajaDeAhorro:\n",
    "    def __init__(self,saldo):\n",
    "        self.__saldo = saldo\n",
    "        self.__lock = threading.Lock()              # declaro un lock\n",
    "\n",
    "    def depositar(self,saldo_a_depositar):\n",
    "        try:\n",
    "            self.__lock.acquire()                   # bloqueo el thread para\n",
    "                                                    # que ningun usuario pueda acceder\n",
    "            time.sleep(3)\n",
    "            print(f\"Saldo antes de depositar ({saldo_a_depositar}): {self.__saldo}\")                                               \n",
    "            self.__saldo += saldo_a_depositar\n",
    "            print(f\"Saldo despues de depositar: {self.__saldo}\\n\") \n",
    "        finally:   \n",
    "            self.__lock.release()                   # desbloqueo el thread para\n",
    "\n",
    "class Usuario(threading.Thread):\n",
    "    def __init__(self,caja_de_ahorro:CajaDeAhorro,id,monto):\n",
    "        super().__init__()                          # hereda de Thread\n",
    "        self.__caja_de_ahorro = caja_de_ahorro\n",
    "        self.__id = id\n",
    "        self.__monto = monto\n",
    "    \n",
    "    def __str__(self):\n",
    "        print(f\"Usuario: {self.__id}\\n\")\n",
    "\n",
    "    def run(self):\n",
    "        print(f\"El usuario {self.__id} intenta depositar: {self.__monto}\\n\")\n",
    "        self.__caja_de_ahorro.depositar(self.__monto)\n",
    "\n",
    " \n",
    "def main():\n",
    "    usuarios = []\n",
    "    caja = CajaDeAhorro(100)\n",
    "    for i in range(0,6):\n",
    "        monto = 10+i\n",
    "        usuarios.append(Usuario(caja,i,monto))\n",
    "\n",
    "    for user in usuarios:\n",
    "        user.start()\n",
    "\n",
    "    for user in usuarios:\n",
    "        user.join()\n",
    "    \n",
    "main()\n"
   ]
  }
 ],
 "metadata": {
  "kernelspec": {
   "display_name": "Python 3",
   "language": "python",
   "name": "python3"
  },
  "language_info": {
   "codemirror_mode": {
    "name": "ipython",
    "version": 3
   },
   "file_extension": ".py",
   "mimetype": "text/x-python",
   "name": "python",
   "nbconvert_exporter": "python",
   "pygments_lexer": "ipython3",
   "version": "3.12.1"
  }
 },
 "nbformat": 4,
 "nbformat_minor": 2
}
