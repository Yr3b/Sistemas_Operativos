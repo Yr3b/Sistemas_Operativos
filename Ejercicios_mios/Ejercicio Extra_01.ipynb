{
 "cells": [
  {
   "cell_type": "markdown",
   "metadata": {},
   "source": [
    "#### Ejercicio Extra-01"
   ]
  },
  {
   "cell_type": "markdown",
   "metadata": {},
   "source": [
    "Consigna: Sistema de reserva de asientos en una aerolinea\n",
    "Simula un sistema de reserva de asientos para un vuelo donde varios usuarios intentan reservar asientos al mismo tiempo. El sistema debe garantizar que no se puedan reservar los mismos asientos de forma concurrente y que las reservas se producen de forma correcta. Tambien se debe implementar un limite en el numero maximo de reservas simultaneas que pueden procesarse al mismo tiempo."
   ]
  },
  {
   "cell_type": "markdown",
   "metadata": {},
   "source": [
    "Notas mias: hay que usar un lock para que cada asiento pueda ser accedido por un solo usuario y un semaforo para que no pueda haber una cierta cantidad de reservas en simultaneo."
   ]
  },
  {
   "cell_type": "code",
   "execution_count": 39,
   "metadata": {},
   "outputs": [
    {
     "name": "stdout",
     "output_type": "stream",
     "text": [
      "2\n",
      "\n",
      "Iniciando reserva asiento 5 del usuario 1\n",
      "\n",
      "Reservando asiento 5...\n",
      "\n",
      "1\n",
      "\n",
      "Iniciando reserva asiento 3 del usuario 2\n",
      "\n",
      "Reservando asiento 3...\n",
      "\n",
      "0\n",
      "\n",
      "El asiento 5 fue reservado por el usuario 1\n",
      "\n",
      "El asiento 3 fue reservado por el usuario 2\n",
      "\n",
      "Iniciando reserva asiento 3 del usuario 3\n",
      "\n",
      "El asiento 3 ya esta reservado por el usuario 2\n",
      "\n",
      "1\n",
      "\n",
      "0\n",
      "\n",
      "Iniciando reserva asiento 2 del usuario 4\n",
      "\n",
      "Reservando asiento 2...\n",
      "\n",
      "1\n",
      "0\n",
      "\n",
      "Iniciando reserva asiento 4 del usuario 5\n",
      "\n",
      "Reservando asiento 4...\n",
      "\n",
      "\n",
      "1\n",
      "0\n",
      "\n",
      "Iniciando reserva asiento 3 del usuario 6\n",
      "\n",
      "El asiento 3 ya esta reservado por el usuario 2\n",
      "\n",
      "\n",
      "El asiento 2 fue reservado por el usuario 4\n",
      "\n",
      "El asiento 4 fue reservado por el usuario 5\n",
      "\n",
      "1\n",
      "\n",
      "2\n",
      "\n",
      "3\n",
      "\n",
      "Proceso de reservas finalizado.\n",
      "\n"
     ]
    }
   ],
   "source": [
    "import threading,time,random\n",
    "\n",
    "class Vuelo:\n",
    "    def __init__(self,asientos,id):\n",
    "        self._asientos = asientos\n",
    "        self._id = id\n",
    "        self._semaphore = threading.Semaphore(3)\n",
    "\n",
    "    def reservar_asiento(self,numero_asiento,numero_usuario):\n",
    "        self._semaphore.acquire()\n",
    "        print(f\"{self._semaphore._value}\\n\")\n",
    "        try:\n",
    "            self._asientos[numero_asiento-1].reservar(numero_usuario)\n",
    "            time.sleep(random.uniform(0.5, 2))\n",
    "        finally:\n",
    "            self._semaphore.release()\n",
    "            print(f\"{self._semaphore._value}\\n\")\n",
    "\n",
    "class Asiento:\n",
    "    def __init__(self,id):\n",
    "        self._id = id\n",
    "        self._reservado = False\n",
    "        self._lock = threading.Lock()\n",
    "        self._id_usuario = None\n",
    "\n",
    "    def reservar(self,id_usuario):\n",
    "        self._lock.acquire()\n",
    "        print(f\"Iniciando reserva asiento {self._id} del usuario {id_usuario}\\n\")\n",
    "        if(self._reservado == False):\n",
    "            print(f\"Reservando asiento {self._id}...\\n\")\n",
    "            time.sleep(2)\n",
    "            self._reservado = True\n",
    "            self._id_usuario = id_usuario\n",
    "            print(f\"El asiento {self._id} fue reservado por el usuario {self._id_usuario}\\n\")\n",
    "        else:\n",
    "            print(f\"El asiento {self._id} ya esta reservado por el usuario {self._id_usuario}\\n\")\n",
    "        self._lock.release()\n",
    "\n",
    "class Usuario(threading.Thread):\n",
    "    def __init__(self,id,vuelo,numero_asiento):\n",
    "        super().__init__()\n",
    "        self._id = id\n",
    "        self._vuelo = vuelo\n",
    "        self._numero_asiento = numero_asiento\n",
    "\n",
    "    def run(self):\n",
    "        self._vuelo.reservar_asiento(self._numero_asiento,self._id)\n",
    "\n",
    "def main():\n",
    "    vuelo = Vuelo([Asiento(1),Asiento(2),Asiento(3),Asiento(4),Asiento(5),Asiento(6)],1)\n",
    "    usuarios=[Usuario(1,vuelo,5),Usuario(2,vuelo,3),Usuario(3,vuelo,3),Usuario(4,vuelo,2),Usuario(5,vuelo,4),Usuario(6,vuelo,3)]\n",
    "    for user in usuarios:\n",
    "        user.start()\n",
    "\n",
    "    for user in usuarios:\n",
    "        user.join()\n",
    "\n",
    "    print(\"Proceso de reservas finalizado.\\n\")\n",
    "main()"
   ]
  }
 ],
 "metadata": {
  "kernelspec": {
   "display_name": "Python 3",
   "language": "python",
   "name": "python3"
  },
  "language_info": {
   "codemirror_mode": {
    "name": "ipython",
    "version": 3
   },
   "file_extension": ".py",
   "mimetype": "text/x-python",
   "name": "python",
   "nbconvert_exporter": "python",
   "pygments_lexer": "ipython3",
   "version": "3.12.1"
  }
 },
 "nbformat": 4,
 "nbformat_minor": 2
}
