{
 "cells": [
  {
   "cell_type": "markdown",
   "metadata": {},
   "source": [
    "<h1 style=\"text-align: center;\">Manejo de concurrencia</h1>"
   ]
  },
  {
   "cell_type": "markdown",
   "metadata": {},
   "source": [
    "\n",
    "### Durante el curso vimos varias formas de como manejar la concurrencia de procesos o subprocesos para evitar incosistencias y errores, vimos Lock, el cual se utiliza cuando quieres asegurarte de que solo una persona a la vez pueda acceder o modificar un recurso específico.\n",
    "\n",
    "\n"
   ]
  },
  {
   "cell_type": "code",
   "execution_count": null,
   "metadata": {},
   "outputs": [],
   "source": [
    "import threading\n",
    "lock = threading.Lock()\n",
    "def usar_computadora():\n",
    " lock.acquire() # Bloquea el recurso compartido para que nadie mas pueda acceder a el\n",
    " try:\n",
    "    print(\"Usando la computadora...\")\n",
    "    # Solo una persona puede acceder a este recurso a la vez\n",
    " finally:\n",
    "    lock.release()"
   ]
  }
 ],
 "metadata": {
  "language_info": {
   "name": "python"
  }
 },
 "nbformat": 4,
 "nbformat_minor": 2
}
