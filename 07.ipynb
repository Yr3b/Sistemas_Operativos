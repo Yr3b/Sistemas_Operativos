{
 "cells": [
  {
   "cell_type": "markdown",
   "metadata": {},
   "source": [
    "<h1>Unidad 7 Sistemas Operativos</h1>"
   ]
  },
  {
   "cell_type": "markdown",
   "metadata": {},
   "source": [
    "<h3>Definiciones utiles:<h3/>"
   ]
  },
  {
   "cell_type": "markdown",
   "metadata": {},
   "source": [
    "Semaforo: \n",
    "Permite controlar el acceso a un recurso compartido para un numero limitado de hilos"
   ]
  },
  {
   "cell_type": "markdown",
   "metadata": {},
   "source": [
    "Condition: Un condition se utiliza para que un hilo espere a que se cumpla una condicion especifica. Un hilo que tiene el condition puede notificar a otros hilos que algo ha cambiado, permitiendoles continuar. Las condiciones son utiles cuando necesitas que un hilo espere por algun evento antes de continuar."
   ]
  },
  {
   "cell_type": "markdown",
   "metadata": {},
   "source": [
    "Barrier: Una Barrier permite que un grupo de subprocesos espere hasta que todos los subprocesos hayan alcanzado un punto particular antes de continuar. Es util cuando queres que un conjunto de hilos sincronicen sus estados antes de proceder."
   ]
  },
  {
   "cell_type": "markdown",
   "metadata": {},
   "source": [
    "Event: un Event es un mecanismo de sincronizacion que permite a uno o varios hilos esperar hasta que otro hilo señale que algo ha ocurrido lo que determinara su continuacion en la ejecucion. Los eventos tienen dos estados."
   ]
  },
  {
   "cell_type": "markdown",
   "metadata": {},
   "source": [
    "<h3>Ejercicio 1 </h3>"
   ]
  },
  {
   "cell_type": "markdown",
   "metadata": {},
   "source": [
    "Consigna: Implementar un sistema de productor-consumidor en Python utilizando hilos. En este sistema, un productor generara numeros enteros aleatorios y los colocara en una lista compartida. El consumidor debera consumir estos numeros (es decir, leerlos y eliminarlos de la lista) en el orden que fueron producidos. Usa un semaforo para controlar que el consumidor no intente consumir un numero cuando la lista este vacia."
   ]
  },
  {
   "cell_type": "markdown",
   "metadata": {},
   "source": [
    "<h5>Requisitos:</h5>"
   ]
  },
  {
   "cell_type": "markdown",
   "metadata": {},
   "source": [
    "Crear clases Producer y Consumer, que extiendasn threading thread, la clase producer debe generar numeros aleatorios y agregarlos (escribir) a una lista compartida. La clase consumer debe consumir (leer y eliminar) los numeros de la lista compartida. Utilizar un semaforo para asegurar que el consumidor no intente leer de la lista cuando este vacia. El programa debe terminar despues de que se hayan producido y consumido 10 numeros."
   ]
  },
  {
   "cell_type": "markdown",
   "metadata": {},
   "source": [
    "<h3>Ejercicio 2 Unidad 7</h3>\n"
   ]
  },
  {
   "cell_type": "markdown",
   "metadata": {},
   "source": [
    "Consigna: Implementar un sistema de mensajeria en el que un productor genera mensajes y los coloca en una lista compartida. Un consumidor esperara hasta que haya un mensaje disponible para leer y luego lo procesa. Utiliza un objeto condition para gestionar la sincronizacion entre los hilos, asegurando que el consumidor solo intente leer cuando hay mensajes disponibles."
   ]
  },
  {
   "cell_type": "markdown",
   "metadata": {},
   "source": [
    "Requisitos: Creados clases: MessageProducer y MessageConsumer, que extiendan threading Thread. La clase MessageProducer debe generar mensajes (cadenas de texto) y agregarlos (escribir) a una lista compartida. La clase MessageConsumer debe consumir (leer y escribir) los mensajes de la lista. Usa un objeto Condition para sincronizar el acceso a la lista de mensajes. El programa debe terminar despues de que se hayan producido y consumido 5 mensajes."
   ]
  }
 ],
 "metadata": {
  "language_info": {
   "name": "python"
  }
 },
 "nbformat": 4,
 "nbformat_minor": 2
}
